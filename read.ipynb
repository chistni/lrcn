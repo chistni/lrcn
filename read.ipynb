{
 "cells": [
  {
   "cell_type": "code",
   "execution_count": 1,
   "metadata": {},
   "outputs": [],
   "source": [
    "# filenames存储图片文件名\n",
    "# x_train[n(第n张图片), 350(行/宽), 830(列/长), 3(RGB三通道)]存储图片转换后数据"
   ]
  },
  {
   "cell_type": "code",
   "execution_count": 2,
   "metadata": {},
   "outputs": [],
   "source": [
    "import torch\n",
    "from torch import nn\n",
    "from d2l import torch as d2l\n",
    "\n",
    "from PIL import Image\n",
    "import numpy as np\n",
    "import os"
   ]
  },
  {
   "cell_type": "code",
   "execution_count": 3,
   "metadata": {},
   "outputs": [
    {
     "name": "stdout",
     "output_type": "stream",
     "text": [
      "(350, 820, 3)\n",
      "(1, 350, 820, 3)\n"
     ]
    }
   ],
   "source": [
    "img = Image.open(r'.\\ba2D_tiffs_temperature\\ba2D_28400_T.tif')\n",
    "img = img.crop((200,415,1020,765))\n",
    "x_train = np.array(img)\n",
    "print(x_train.shape)\n",
    "x_train = np.expand_dims(x_train, axis=0)\n",
    "print(x_train.shape)"
   ]
  },
  {
   "cell_type": "code",
   "execution_count": 4,
   "metadata": {},
   "outputs": [
    {
     "name": "stdout",
     "output_type": "stream",
     "text": [
      "(120, 350, 820, 3)\n"
     ]
    }
   ],
   "source": [
    "for dirpath, dirname, filenames in os.walk(r'.\\ba2D_tiffs_temperature'):\n",
    "    for filename in filenames:\n",
    "        if (filename != 'Thumbs.db') & (filename != 'ba2D_28400_T.tif'):\n",
    "            im = Image.open(dirpath + '\\\\' + filename)\n",
    "            im = im.crop((200,415,1020,765))\n",
    "            image_array = np.array(im)\n",
    "            image_array = np.expand_dims(image_array, axis=0)\n",
    "            x_train = np.concatenate((x_train, image_array), axis=0)\n",
    "print(x_train.shape)"
   ]
  },
  {
   "cell_type": "code",
   "execution_count": 5,
   "metadata": {},
   "outputs": [
    {
     "name": "stdout",
     "output_type": "stream",
     "text": [
      "['ba2D_28400_T.tif' 'ba2D_28450_T.tif' 'ba2D_28500_T.tif'\n",
      " 'ba2D_28550_T.tif' 'ba2D_28600_T.tif' 'ba2D_28650_T.tif'\n",
      " 'ba2D_28700_T.tif' 'ba2D_28750_T.tif' 'ba2D_28800_T.tif'\n",
      " 'ba2D_28850_T.tif' 'ba2D_28900_T.tif' 'ba2D_28950_T.tif'\n",
      " 'ba2D_29000_T.tif' 'ba2D_29050_T.tif' 'ba2D_29100_T.tif'\n",
      " 'ba2D_29150_T.tif' 'ba2D_29200_T.tif' 'ba2D_29250_T.tif'\n",
      " 'ba2D_29300_T.tif' 'ba2D_29350_T.tif' 'ba2D_29400_T.tif'\n",
      " 'ba2D_29450_T.tif' 'ba2D_29500_T.tif' 'ba2D_29550_T.tif'\n",
      " 'ba2D_29600_T.tif' 'ba2D_29650_T.tif' 'ba2D_29700_T.tif'\n",
      " 'ba2D_29750_T.tif' 'ba2D_29800_T.tif' 'ba2D_29850_T.tif'\n",
      " 'ba2D_29900_T.tif' 'ba2D_29950_T.tif' 'ba2D_30000_T.tif'\n",
      " 'ba2D_30050_T.tif' 'ba2D_30100_T.tif' 'ba2D_30150_T.tif'\n",
      " 'ba2D_30200_T.tif' 'ba2D_30250_T.tif' 'ba2D_30300_T.tif'\n",
      " 'ba2D_30350_T.tif' 'ba2D_30400_T.tif' 'ba2D_30450_T.tif'\n",
      " 'ba2D_30500_T.tif' 'ba2D_30550_T.tif' 'ba2D_30600_T.tif'\n",
      " 'ba2D_30650_T.tif' 'ba2D_30700_T.tif' 'ba2D_30750_T.tif'\n",
      " 'ba2D_30800_T.tif' 'ba2D_30850_T.tif' 'ba2D_30900_T.tif'\n",
      " 'ba2D_30950_T.tif' 'ba2D_31000_T.tif' 'ba2D_31050_T.tif'\n",
      " 'ba2D_31100_T.tif' 'ba2D_31150_T.tif' 'ba2D_31200_T.tif'\n",
      " 'ba2D_31250_T.tif' 'ba2D_31300_T.tif' 'ba2D_31350_T.tif'\n",
      " 'ba2D_31400_T.tif' 'ba2D_31450_T.tif' 'ba2D_31500_T.tif'\n",
      " 'ba2D_31550_T.tif' 'ba2D_31600_T.tif' 'ba2D_31650_T.tif'\n",
      " 'ba2D_31700_T.tif' 'ba2D_31750_T.tif' 'ba2D_31800_T.tif'\n",
      " 'ba2D_31850_T.tif' 'ba2D_31900_T.tif' 'ba2D_31950_T.tif'\n",
      " 'ba2D_32000_T.tif' 'ba2D_32050_T.tif' 'ba2D_32100_T.tif'\n",
      " 'ba2D_32150_T.tif' 'ba2D_32200_T.tif' 'ba2D_32250_T.tif'\n",
      " 'ba2D_32300_T.tif' 'ba2D_32350_T.tif' 'ba2D_32400_T.tif'\n",
      " 'ba2D_32450_T.tif' 'ba2D_32500_T.tif' 'ba2D_32600_T.tif'\n",
      " 'ba2D_32650_T.tif' 'ba2D_32700_T.tif' 'ba2D_32750_T.tif'\n",
      " 'ba2D_32800_T.tif' 'ba2D_32850_T.tif' 'ba2D_32900_T.tif'\n",
      " 'ba2D_32950_T.tif' 'ba2D_33000_T.tif' 'ba2D_33050_T.tif'\n",
      " 'ba2D_33100_T.tif' 'ba2D_33150_T.tif' 'ba2D_33200_T.tif'\n",
      " 'ba2D_33250_T.tif' 'ba2D_33300_T.tif' 'ba2D_33350_T.tif'\n",
      " 'ba2D_33400_T.tif' 'ba2D_33450_T.tif' 'ba2D_33500_T.tif'\n",
      " 'ba2D_33550_T.tif' 'ba2D_33600_T.tif' 'ba2D_33650_T.tif'\n",
      " 'ba2D_33700_T.tif' 'ba2D_33750_T.tif' 'ba2D_33800_T.tif'\n",
      " 'ba2D_33850_T.tif' 'ba2D_33900_T.tif' 'ba2D_33950_T.tif'\n",
      " 'ba2D_34000_T.tif' 'ba2D_34050_T.tif' 'ba2D_34100_T.tif'\n",
      " 'ba2D_34150_T.tif' 'ba2D_34200_T.tif' 'ba2D_34250_T.tif'\n",
      " 'ba2D_34300_T.tif' 'ba2D_34350_T.tif' 'ba2D_34400_T.tif']\n"
     ]
    }
   ],
   "source": [
    "filenames = np.delete(filenames, [120])\n",
    "print(filenames)"
   ]
  },
  {
   "cell_type": "code",
   "execution_count": 6,
   "metadata": {},
   "outputs": [
    {
     "name": "stdout",
     "output_type": "stream",
     "text": [
      "[[28400.]\n",
      " [28450.]\n",
      " [28500.]\n",
      " [28550.]\n",
      " [28600.]\n",
      " [28650.]\n",
      " [28700.]\n",
      " [28750.]\n",
      " [28800.]\n",
      " [28850.]\n",
      " [28900.]\n",
      " [28950.]\n",
      " [29000.]\n",
      " [29050.]\n",
      " [29100.]\n",
      " [29150.]\n",
      " [29200.]\n",
      " [29250.]\n",
      " [29300.]\n",
      " [29350.]\n",
      " [29400.]\n",
      " [29450.]\n",
      " [29500.]\n",
      " [29550.]\n",
      " [29600.]\n",
      " [29650.]\n",
      " [29700.]\n",
      " [29750.]\n",
      " [29800.]\n",
      " [29850.]\n",
      " [29900.]\n",
      " [29950.]\n",
      " [30000.]\n",
      " [30050.]\n",
      " [30100.]\n",
      " [30150.]\n",
      " [30200.]\n",
      " [30250.]\n",
      " [30300.]\n",
      " [30350.]\n",
      " [30400.]\n",
      " [30450.]\n",
      " [30500.]\n",
      " [30550.]\n",
      " [30600.]\n",
      " [30650.]\n",
      " [30700.]\n",
      " [30750.]\n",
      " [30800.]\n",
      " [30850.]\n",
      " [30900.]\n",
      " [30950.]\n",
      " [31000.]\n",
      " [31050.]\n",
      " [31100.]\n",
      " [31150.]\n",
      " [31200.]\n",
      " [31250.]\n",
      " [31300.]\n",
      " [31350.]\n",
      " [31400.]\n",
      " [31450.]\n",
      " [31500.]\n",
      " [31550.]\n",
      " [31600.]\n",
      " [31650.]\n",
      " [31700.]\n",
      " [31750.]\n",
      " [31800.]\n",
      " [31850.]\n",
      " [31900.]\n",
      " [31950.]\n",
      " [32000.]\n",
      " [32050.]\n",
      " [32100.]\n",
      " [32150.]\n",
      " [32200.]\n",
      " [32250.]\n",
      " [32300.]\n",
      " [32350.]\n",
      " [32400.]\n",
      " [32450.]\n",
      " [32500.]\n",
      " [32600.]\n",
      " [32650.]\n",
      " [32700.]\n",
      " [32750.]\n",
      " [32800.]\n",
      " [32850.]\n",
      " [32900.]\n",
      " [32950.]\n",
      " [33000.]\n",
      " [33050.]\n",
      " [33100.]\n",
      " [33150.]\n",
      " [33200.]\n",
      " [33250.]\n",
      " [33300.]\n",
      " [33350.]\n",
      " [33400.]\n",
      " [33450.]\n",
      " [33500.]\n",
      " [33550.]\n",
      " [33600.]\n",
      " [33650.]\n",
      " [33700.]\n",
      " [33750.]\n",
      " [33800.]\n",
      " [33850.]\n",
      " [33900.]\n",
      " [33950.]\n",
      " [34000.]\n",
      " [34050.]\n",
      " [34100.]\n",
      " [34150.]\n",
      " [34200.]\n",
      " [34250.]\n",
      " [34300.]\n",
      " [34350.]\n",
      " [34400.]]\n"
     ]
    }
   ],
   "source": [
    "filetime = np.empty((120,1))\n",
    "for i in range(120):\n",
    "    if (28400 + 50*i) <= 32500:\n",
    "        filetime[i] = 28400 + 50*i\n",
    "    else:\n",
    "        filetime[i] = 28400 + 50*(i + 1)\n",
    "print(filetime)"
   ]
  },
  {
   "cell_type": "code",
   "execution_count": 7,
   "metadata": {},
   "outputs": [
    {
     "name": "stdout",
     "output_type": "stream",
     "text": [
      "<class 'torch.Tensor'> torch.Size([120, 350, 820, 3])\n"
     ]
    }
   ],
   "source": [
    "n_train = x_train.shape[0]\n",
    "x_train = torch.tensor(x_train, dtype=torch.float32)\n",
    "print(type(x_train), x_train.shape)"
   ]
  }
 ],
 "metadata": {
  "kernelspec": {
   "display_name": "Python 3.8.13 ('base')",
   "language": "python",
   "name": "python3"
  },
  "language_info": {
   "codemirror_mode": {
    "name": "ipython",
    "version": 3
   },
   "file_extension": ".py",
   "mimetype": "text/x-python",
   "name": "python",
   "nbconvert_exporter": "python",
   "pygments_lexer": "ipython3",
   "version": "3.8.13"
  },
  "orig_nbformat": 4,
  "vscode": {
   "interpreter": {
    "hash": "4442a059423b1d8cb2d566f1d7a9e596fd1852f4b9b9e9d6f69b72f942b31330"
   }
  }
 },
 "nbformat": 4,
 "nbformat_minor": 2
}
